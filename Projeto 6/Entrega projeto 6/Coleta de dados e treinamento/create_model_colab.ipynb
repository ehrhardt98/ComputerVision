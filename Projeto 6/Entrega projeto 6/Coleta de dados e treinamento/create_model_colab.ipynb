{
  "nbformat": 4,
  "nbformat_minor": 0,
  "metadata": {
    "colab": {
      "name": "create_model.ipynb",
      "provenance": []
    },
    "kernelspec": {
      "name": "python3",
      "display_name": "Python 3"
    }
  },
  "cells": [
    {
      "cell_type": "code",
      "metadata": {
        "id": "vujWprkjGeAd",
        "colab_type": "code",
        "colab": {}
      },
      "source": [
        "import cv2 as cv\n",
        "import numpy as np\n",
        "from keras.utils import to_categorical\n",
        "from tensorflow.keras import layers\n",
        "from tensorflow.keras.models import Sequential\n",
        "from tensorflow.keras.preprocessing.image import ImageDataGenerator\n",
        "from tensorflow.keras.datasets import mnist\n",
        "import pickle\n",
        "import matplotlib.pyplot as plt\n",
        "%matplotlib inline"
      ],
      "execution_count": 0,
      "outputs": []
    },
    {
      "cell_type": "code",
      "metadata": {
        "id": "oLYLR_3wGiuv",
        "colab_type": "code",
        "colab": {}
      },
      "source": [
        "gabarito = pickle.load(open( \"gabarito\", \"rb\" )) # Lê o pickle contendo as imagens e seus respectivos números, gerado no arquivo treinamento.ipynb"
      ],
      "execution_count": 0,
      "outputs": []
    },
    {
      "cell_type": "code",
      "metadata": {
        "id": "gzC0Wew5Gli1",
        "colab_type": "code",
        "colab": {}
      },
      "source": [
        "gabarito[0][1]"
      ],
      "execution_count": 0,
      "outputs": []
    },
    {
      "cell_type": "code",
      "metadata": {
        "id": "C5lrmuL1Gl2o",
        "colab_type": "code",
        "colab": {}
      },
      "source": [
        "train = gabarito[0:int(len(gabarito)*0.75)] # Separa os primeiros 75% dos dados para o treinamento"
      ],
      "execution_count": 0,
      "outputs": []
    },
    {
      "cell_type": "code",
      "metadata": {
        "id": "uH3PjmTvGoUe",
        "colab_type": "code",
        "colab": {}
      },
      "source": [
        "test = gabarito[int(len(gabarito)*0.75):]# Separa os 25% finais para testas as predições"
      ],
      "execution_count": 0,
      "outputs": []
    },
    {
      "cell_type": "code",
      "metadata": {
        "id": "_anCYMszGnKY",
        "colab_type": "code",
        "colab": {}
      },
      "source": [
        "Xtrain, Ytrain = zip(*train) # \"unzip\" da lista de tuplas para duas listas, uma contendo as imagens, e a outra contendo os números"
      ],
      "execution_count": 0,
      "outputs": []
    },
    {
      "cell_type": "code",
      "metadata": {
        "id": "pI1HVeh3GpjX",
        "colab_type": "code",
        "colab": {}
      },
      "source": [
        "Xtest, Ytest = zip(*test)"
      ],
      "execution_count": 0,
      "outputs": []
    },
    {
      "cell_type": "code",
      "metadata": {
        "id": "CdOiAx__GqkP",
        "colab_type": "code",
        "colab": {}
      },
      "source": [
        "Xlr = np.reshape(Xtrain, (len(Xtrain), 784))\n",
        "Xtlr = np.reshape(Xtest, (len(Xtest), 784))"
      ],
      "execution_count": 0,
      "outputs": []
    },
    {
      "cell_type": "code",
      "metadata": {
        "id": "wFc6MoooGrv-",
        "colab_type": "code",
        "colab": {}
      },
      "source": [
        "Ytrain = np.array(list(Ytrain), dtype='uint8')\n",
        "# Ytrain"
      ],
      "execution_count": 0,
      "outputs": []
    },
    {
      "cell_type": "code",
      "metadata": {
        "id": "waDNwKkEGtJC",
        "colab_type": "code",
        "colab": {}
      },
      "source": [
        "Ytest = np.array(list(Ytest), dtype='uint8')\n",
        "# Ytest"
      ],
      "execution_count": 0,
      "outputs": []
    },
    {
      "cell_type": "code",
      "metadata": {
        "id": "EYxp_iQaGuYc",
        "colab_type": "code",
        "colab": {}
      },
      "source": [
        "y_oe = to_categorical(np.array(Ytrain), 10)\n",
        "yt_oe = to_categorical(np.array(Ytest), 10)"
      ],
      "execution_count": 0,
      "outputs": []
    },
    {
      "cell_type": "code",
      "metadata": {
        "id": "vUryoY2VGwJD",
        "colab_type": "code",
        "colab": {}
      },
      "source": [
        "Xnn = Xlr/255\n",
        "Xtnn = Xtlr/255"
      ],
      "execution_count": 0,
      "outputs": []
    },
    {
      "cell_type": "code",
      "metadata": {
        "id": "oZdZKtE5GvTL",
        "colab_type": "code",
        "colab": {}
      },
      "source": [
        "Xcnn = Xnn.reshape(Xnn.shape[0], 28, 28, 1).astype('float32') # reshapes para se adequares às predições\n",
        "Xtcnn = Xtnn.reshape(Xtnn.shape[0], 28, 28, 1).astype('float32')"
      ],
      "execution_count": 0,
      "outputs": []
    },
    {
      "cell_type": "code",
      "metadata": {
        "id": "XJJyExEFGySL",
        "colab_type": "code",
        "colab": {}
      },
      "source": [
        "model_cnn = Sequential() # criação do modelo e de suas camadas\n",
        "\n",
        "model_cnn.add(layers.Conv2D(32, (5, 5), input_shape=(28, 28, 1), activation='relu'))\n",
        "model_cnn.add(layers.MaxPooling2D(pool_size=(2, 2)))\n",
        "model_cnn.add(layers.Flatten())\n",
        "model_cnn.add(layers.Dense(128, activation='relu'))\n",
        "model_cnn.add(layers.Dense(10, activation='softmax'))\n",
        "model_cnn.compile(loss='categorical_crossentropy', optimizer='adam', metrics=['accuracy'])"
      ],
      "execution_count": 0,
      "outputs": []
    },
    {
      "cell_type": "code",
      "metadata": {
        "id": "bszdzDkLGzdt",
        "colab_type": "code",
        "colab": {}
      },
      "source": [
        "model_cnn.fit(Xcnn, y_oe, validation_data=(Xtcnn, yt_oe), batch_size=200, verbose=2, epochs = 3000)"
      ],
      "execution_count": 0,
      "outputs": []
    },
    {
      "cell_type": "code",
      "metadata": {
        "id": "BZJFStM5G0-f",
        "colab_type": "code",
        "colab": {}
      },
      "source": [
        "# geração de imagens com pequenas alterações para aumentar a base de dados\n",
        "imageData = ImageDataGenerator(width_shift_range=5, height_shift_range=5, rotation_range=15, zoom_range=0.15)"
      ],
      "execution_count": 0,
      "outputs": []
    },
    {
      "cell_type": "code",
      "metadata": {
        "id": "BtPUvbxRG2QM",
        "colab_type": "code",
        "colab": {}
      },
      "source": [
        "# treinamento final\n",
        "model_cnn.fit_generator(imageData.flow(Xcnn, y_oe, batch_size = 200, shuffle = True), steps_per_epoch = len(Xcnn)/100, epochs = 3000)"
      ],
      "execution_count": 0,
      "outputs": []
    },
    {
      "cell_type": "code",
      "metadata": {
        "id": "6nMxNHLdG3TM",
        "colab_type": "code",
        "colab": {}
      },
      "source": [
        "model_cnn.save(\"modelo.h5\")"
      ],
      "execution_count": 0,
      "outputs": []
    },
    {
      "cell_type": "code",
      "metadata": {
        "id": "LIAWoWrOG5oE",
        "colab_type": "code",
        "colab": {}
      },
      "source": [
        ""
      ],
      "execution_count": 0,
      "outputs": []
    }
  ]
}