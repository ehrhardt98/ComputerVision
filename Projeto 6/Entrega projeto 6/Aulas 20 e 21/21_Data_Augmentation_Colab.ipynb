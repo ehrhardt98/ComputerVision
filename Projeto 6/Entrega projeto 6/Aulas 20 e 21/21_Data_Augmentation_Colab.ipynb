{
 "cells": [
  {
   "cell_type": "markdown",
   "metadata": {
    "colab_type": "text",
    "id": "RuRCOOnSvLe7"
   },
   "source": [
    "\n",
    "No último handout conseguimos treinar algumas redes neurais (tradicionais e convolucionais) e obtivemos avaliações muito boas em nosso conjunto de treinamento. Este cenário, porém, não é realista: as imagens estão perfeitamente registradas. \n",
    "\n",
    "**Conceito**: em um pipeline de visão computacional a etapa de *registro* consiste em alinhas imagens de uma mesma cena (ou objeto) para que elas mostrem nas mesmas regiões da imagem os mesmos conteúdos. \n",
    "\n",
    "![](nao_registrada.png)\n",
    "\n",
    "As duas imagens acima não estão registradas pois os números 4 não estão alinhados. Isto pode causar uma série de problemas em algoritmos de classificação de imagens. Vamos iniciar esta aula quantificando estes problemas.\n",
    "\n",
    "**Exercício**: cole abaixo sua melhor rede neural da aula anterior. Inclua tudo necessário para que o modelo seja criado e treinado e para que os dados de treinamento sejam baixados. \n"
   ]
  },
  {
   "cell_type": "code",
   "execution_count": 0,
   "metadata": {
    "colab": {},
    "colab_type": "code",
    "id": "nrR97KE0xMQO"
   },
   "outputs": [],
   "source": [
    "from tensorflow.keras.datasets import mnist\n",
    "import matplotlib.pyplot as plt\n",
    "%matplotlib inline\n",
    "\n",
    "(X, y), (Xt, yt) = mnist.load_data()\n",
    "print('# Imagens:', y.shape[0])\n",
    "print('Tamanho:', X[0].shape)\n",
    "print('Primeiro número:', y[0])\n",
    "plt.imshow(X[0], cmap='gray')"
   ]
  },
  {
   "cell_type": "code",
   "execution_count": 0,
   "metadata": {
    "colab": {},
    "colab_type": "code",
    "id": "kifuWP5yKc65"
   },
   "outputs": [],
   "source": [
    "import numpy as np\n",
    "\n",
    "Xlr = np.reshape(X, (60000, 784))\n",
    "Xtlr = np.reshape(Xt, (10000, 784))"
   ]
  },
  {
   "cell_type": "code",
   "execution_count": 0,
   "metadata": {
    "colab": {},
    "colab_type": "code",
    "id": "eUCFnvfPKm0D"
   },
   "outputs": [],
   "source": [
    "from keras.utils import to_categorical\n",
    "\n",
    "y_oe = to_categorical(y, 10)\n",
    "yt_oe = to_categorical(yt, 10)"
   ]
  },
  {
   "cell_type": "code",
   "execution_count": 0,
   "metadata": {
    "colab": {},
    "colab_type": "code",
    "id": "wlFE_APcKm_f"
   },
   "outputs": [],
   "source": [
    "Xnn = Xlr/255\n",
    "Xtnn = Xtlr/255"
   ]
  },
  {
   "cell_type": "code",
   "execution_count": 0,
   "metadata": {
    "colab": {},
    "colab_type": "code",
    "id": "MnQUYxmWT4jv"
   },
   "outputs": [],
   "source": [
    "Xcnn = Xnn.reshape(Xnn.shape[0], 28, 28, 1).astype('float32')\n",
    "Xtcnn = Xtnn.reshape(Xtnn.shape[0], 28, 28, 1).astype('float32')"
   ]
  },
  {
   "cell_type": "code",
   "execution_count": 0,
   "metadata": {
    "colab": {},
    "colab_type": "code",
    "id": "Vxo_bb4MKnBq"
   },
   "outputs": [],
   "source": [
    "from tensorflow.keras import layers\n",
    "from tensorflow.keras.models import Sequential\n",
    "\n",
    "\n",
    "model_cnn = Sequential()\n",
    "\n",
    "model_cnn.add(layers.Conv2D(32, (5, 5), input_shape=(28, 28, 1), activation='relu'))\n",
    "model_cnn.add(layers.MaxPooling2D(pool_size=(2, 2)))\n",
    "model_cnn.add(layers.Flatten())\n",
    "model_cnn.add(layers.Dense(128, activation='relu'))\n",
    "model_cnn.add(layers.Dense(10, activation='softmax'))\n",
    "model_cnn.compile(loss='categorical_crossentropy', optimizer='adam', metrics=['accuracy'])"
   ]
  },
  {
   "cell_type": "code",
   "execution_count": 0,
   "metadata": {
    "colab": {},
    "colab_type": "code",
    "id": "9zGIftzDMfzl"
   },
   "outputs": [],
   "source": [
    "model_cnn.fit(Xcnn, y_oe, validation_data=(Xtcnn, yt_oe), batch_size=200, verbose=2, epochs = 10)"
   ]
  },
  {
   "cell_type": "markdown",
   "metadata": {
    "colab_type": "text",
    "id": "pk94ZuVoxk8U"
   },
   "source": [
    "Agora que você já tem uma rede neural para testarmos, vamos explorar a classe `tf.keras.preprocessing.image.ImageDataGenerator`. Pesquise o quê ela faz e escreva abaixo um resumo."
   ]
  },
  {
   "cell_type": "markdown",
   "metadata": {
    "colab_type": "text",
    "id": "gffGBfRoxu4u"
   },
   "source": [
    "Essa classe performa as transformações de translação e rotação nas imagens \"on demand\", sem guardá-las na memória."
   ]
  },
  {
   "cell_type": "markdown",
   "metadata": {
    "colab_type": "text",
    "id": "SgdO_oD-xvGN"
   },
   "source": [
    "**Exercício**: instancie um `ImageDataGenerator` que permita deslocamentos horizontais e verticais de até 5 pixels, rotações de até 25 graus e zoom de até 25% do tamanho da imagem. Gere, então, 10 variações de uma imagem a sua escolha de `Xt` e mostre-as usando matplotlib. \n",
    "\n",
    "**Dicas**:\n",
    "\n",
    "* Todas as informações estão presentes na documentação desta classe. \n",
    "* Procure pelo método `random_transform` para transformar uma imagem \n",
    "* Antes de passar as imagens para a rede convolucional não se esqueça de deixar todos seus elementos no intervalo $[0, 1]$.\n",
    "* Não se esqueça de usar `reshape` sempre que os dados forem pedidos em um formato diferente de entrada. "
   ]
  },
  {
   "cell_type": "code",
   "execution_count": 0,
   "metadata": {
    "colab": {},
    "colab_type": "code",
    "id": "ikNTwLAKzDxE"
   },
   "outputs": [],
   "source": [
    "from tensorflow.keras.preprocessing.image import ImageDataGenerator\n",
    "\n",
    "imageData = ImageDataGenerator(width_shift_range=5, height_shift_range=5, rotation_range=25, zoom_range=0.25)\n",
    "\n",
    "lista_random = []\n",
    "\n",
    "for i in range(10):\n",
    "  new_random = imageData.random_transform(Xtnn[0].reshape((28,28,1)))\n",
    "  lista_random.append(new_random)\n",
    "  print(np.argmax(model_cnn.predict(new_random.reshape((1,28,28,1)))))\n",
    "  plt.imshow(new_random.reshape((28,28)), cmap='gray')\n",
    "  plt.show()\n"
   ]
  },
  {
   "cell_type": "markdown",
   "metadata": {
    "colab_type": "text",
    "id": "T6RkgOeRzJze"
   },
   "source": [
    "**Exercício**: aplique seu classificador a estas imagens e verifique sua acurácia.\n",
    "\n",
    "**Dicas**:\n",
    "\n",
    "* novamente, `reshape` é seu amigo\n",
    "* o método `predict` retorna probabilidades, use `np.argmax` para encontrar o índice do maior valor."
   ]
  },
  {
   "cell_type": "markdown",
   "metadata": {
    "colab_type": "text",
    "id": "RmjuTZdZRuDv"
   },
   "source": [
    "Já feito na célula acima"
   ]
  },
  {
   "cell_type": "markdown",
   "metadata": {
    "colab_type": "text",
    "id": "CSvGfO8zzdmL"
   },
   "source": [
    "Você deve ter observado que em vários exemplos a resposta do seu classificador foi incorreta. O erro obtido foi muito maior que o mostrado na avaliação da aula anterior! Isto ocorre pois nosso classificador foi treinado com um conjunto de dados com uma distribuição diferente Ou seja, se ele nunca viu um 4 deslocado para a direita vai supor que isto é impossível. \n",
    "\n",
    "Uma estratégia comumente utilizada é incluir, no treinamento, variações pequenas nas imagens exatamente como geramos nas células acima. Desta maneira pode-se conseguir classificadores que sejam menos sensíveis as posições dos dígitos nas imagens (mais genericamente, na posição dos objetos dentro de uma cena). \n",
    "\n",
    "Dá-se o nome de **Data Augmentation** para qualquer procedimento que siga este fluxo de \"turbinar\" o conjunto de treinamento com variações de suas imagens de modo a deixar o classificador mais robusto. Naturalmente, ele será robusto aos tipos de transformações inclusas: um classificador não se tornará magicamente robusto a rotações se elas não estiverem presentes no conjunto de treinamento."
   ]
  },
  {
   "cell_type": "markdown",
   "metadata": {
    "colab_type": "text",
    "id": "fTrzKuW92N5i"
   },
   "source": [
    "O principal uso de `ImageDataGenerator` é criar uma lista infinita de imagens escolhidas aleatoriamente e transformá-las também de maneira aleatória. Isto nos permite incluir no treinamento todas aquelas variações vistas nos exercícios anteriores. \n",
    "\n",
    "**Exercício**: use sua instância de `ImageDataGenerator` para treinar novamente seu modelo, mas desta vez incluindo as variações que mostramos anteriormente. \n",
    "\n",
    "**Dicas**:\n",
    "\n",
    "* sempre consulte a documentação das classes que usamos\n",
    "* pesquisar por *Python Generators* ajuda a desfazer a mágica por trás do funcionamento de `ImageDataGenerator`, mas não é obrigatório\n",
    "* o método `.flow(X, y)` é seu amigo"
   ]
  },
  {
   "cell_type": "code",
   "execution_count": 0,
   "metadata": {
    "colab": {},
    "colab_type": "code",
    "id": "2c3SkYql3aB1"
   },
   "outputs": [],
   "source": [
    "model_cnn.fit(imageData.flow(Xcnn, y_oe), epochs = 10)"
   ]
  },
  {
   "cell_type": "markdown",
   "metadata": {
    "colab_type": "text",
    "id": "i4wVnRma3aSe"
   },
   "source": [
    "**Exercício**: agora que temos um classificador mais robusto, faça novamente o teste com as imagens deslocadas. Os resultados melhoraram?"
   ]
  },
  {
   "cell_type": "code",
   "execution_count": 0,
   "metadata": {
    "colab": {},
    "colab_type": "code",
    "id": "ymuhB1H23g7P"
   },
   "outputs": [],
   "source": [
    "for i in range(10):\n",
    "  new_random = imageData.random_transform(Xtnn[10].reshape((28,28,1)))\n",
    "  print(np.argmax(model_cnn.predict(new_random.reshape((1,28,28,1)))))\n",
    "  plt.imshow(new_random.reshape((28,28)), cmap='gray')\n",
    "  plt.show()"
   ]
  },
  {
   "cell_type": "markdown",
   "metadata": {
    "colab_type": "text",
    "id": "0nEcW9gc3hLp"
   },
   "source": [
    "# Parte final\n",
    "\n",
    "**Exercício**: tire uma foto de 5 números escritos à mão por você. Separe cada um dos números, redimensione-os para uma imagem $28\\times 28$, passe cada um pelo seu melhor modelo desta aula e retorne a leitura do número por inteiro.\n",
    "\n",
    "**Dica**: sua foto pode conter somente a folha em branco e os dígitos em preto. Você pode supor que nenhuma parte de um dígito encosta no outro e que a imagem é binarizável usando uma operação simples de limiar (*threshold*)."
   ]
  },
  {
   "cell_type": "code",
   "execution_count": 0,
   "metadata": {
    "colab": {},
    "colab_type": "code",
    "id": "h2CWDf4UvHre"
   },
   "outputs": [],
   "source": [
    "import cv2 as cv\n",
    "img_zero = cv.imread(\"zero.jpg\", cv.IMREAD_GRAYSCALE)\n",
    "img_zero = (255-img_zero) > 100\n",
    "plt.imshow(img_zero, cmap=\"gray\")\n",
    "\n",
    "print(np.argmax(model_cnn.predict(img_zero.reshape((1,28,28,1)))))"
   ]
  },
  {
   "cell_type": "code",
   "execution_count": 0,
   "metadata": {
    "colab": {},
    "colab_type": "code",
    "id": "mzwdwIYmaFE4"
   },
   "outputs": [],
   "source": [
    "img_um = cv.imread(\"um.jpg\", cv.IMREAD_GRAYSCALE)\n",
    "img_um = (255-img_um) > 100\n",
    "plt.imshow(img_um, cmap=\"gray\")\n",
    "\n",
    "print(np.argmax(model_cnn.predict(img_um.reshape((1,28,28,1)))))"
   ]
  },
  {
   "cell_type": "code",
   "execution_count": 0,
   "metadata": {
    "colab": {},
    "colab_type": "code",
    "id": "efawVS25ZWlp"
   },
   "outputs": [],
   "source": []
  }
 ],
 "metadata": {
  "accelerator": "GPU",
  "colab": {
   "collapsed_sections": [],
   "name": "21_Data_Augmentation.ipynb",
   "private_outputs": true,
   "provenance": []
  },
  "kernelspec": {
   "display_name": "Python 3",
   "language": "python",
   "name": "python3"
  },
  "language_info": {
   "codemirror_mode": {
    "name": "ipython",
    "version": 3
   },
   "file_extension": ".py",
   "mimetype": "text/x-python",
   "name": "python",
   "nbconvert_exporter": "python",
   "pygments_lexer": "ipython3",
   "version": "3.7.4"
  }
 },
 "nbformat": 4,
 "nbformat_minor": 1
}
