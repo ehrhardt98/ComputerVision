{
 "cells": [
  {
   "cell_type": "markdown",
   "metadata": {
    "colab_type": "text",
    "id": "omcFp5fi4IAl"
   },
   "source": [
    "# Parte 0 - Instalação (usando Anaconda Python)\n",
    "\n",
    "Abaixo estão os comandos usados para instalar todas as dependências necessárias para esta aula. Se você não tem uma GPU NVidia troque `tensorflow-gpu` por `tensorflow`.\n",
    "\n",
    "    > conda create -n CV-NN python=3.7\n",
    "    > conda activate CV-NN\n",
    "    > conda install tensorflow-gpu scikit-learn jupyter[notebook] numpy matplotlib\n",
    "\n",
    "Os comandos acima criam um ambiente virtual com Python 3.7. Isto não é necessário, mas pode ser interessante para organizar melhor as dependências dos seus projetos. Uma vantagem de usar o Anaconda é que ele já instala o CUDA SDK automaticamente (no caso de usar `tensorflow-gpu`). \n",
    "\n",
    "**Importante**: a versão dos drivers NVidia para Ubuntu 18.04 provavelmente não são suficientes para rodar o tensorflow mais recente (que usaremos na disciplina). Confira o [guia de uso de GPUs](https://www.tensorflow.org/install/gpu) para garantir que está tudo OK antes de perder muito tempo com isto.\n",
    "\n",
    "Se você não tem GPU (ou não quer configurar nada) pode usar o [Google Colab](https://colab.research.google.com). Ele já vem com as dependências instaladas e tem GPUs disponíveis para uso gratuito. É bom para usos educacionais e nossa aula (deveria) funciona(r) nele sem problemas. \n",
    "\n",
    "# Parte 1 - Classificação categórica\n",
    "\n",
    "Na última atividade vimos um exemplo de **classificação binária**, em que classificamos imagens em pertencendo ou não a uma classe (*cachorros* vs *faces*). Nesta atividade exercitaremos a classificação em categorias e para isto usaremos um modelo que se adapta bem a este tipo de situação: *Regressão logística* e a *entropia categórica*.\n",
    "\n",
    "Além do scikit-learn, usado no roteiro passado, neste roteiro usaremos também a biblioteca [keras](http://keras.io) para treinar redes neurais que façam a classificação categórica de imagens de dígitos manuscritos. Veja abaixo o código para carregar os dados e um exemplo de imagem que usaremos."
   ]
  },
  {
   "cell_type": "code",
   "execution_count": 0,
   "metadata": {
    "colab": {
     "base_uri": "https://localhost:8080/",
     "height": 411
    },
    "colab_type": "code",
    "id": "_C40aqQF4IAo",
    "outputId": "a8a8f922-0860-46c6-b559-f576875889d2"
   },
   "outputs": [
    {
     "data": {
      "text/html": [
       "<p style=\"color: red;\">\n",
       "The default version of TensorFlow in Colab will soon switch to TensorFlow 2.x.<br>\n",
       "We recommend you <a href=\"https://www.tensorflow.org/guide/migrate\" target=\"_blank\">upgrade</a> now \n",
       "or ensure your notebook will continue to use TensorFlow 1.x via the <code>%tensorflow_version 1.x</code> magic:\n",
       "<a href=\"https://colab.research.google.com/notebooks/tensorflow_version.ipynb\" target=\"_blank\">more info</a>.</p>\n"
      ],
      "text/plain": [
       "<IPython.core.display.HTML object>"
      ]
     },
     "metadata": {
      "tags": []
     },
     "output_type": "display_data"
    },
    {
     "name": "stdout",
     "output_type": "stream",
     "text": [
      "Downloading data from https://storage.googleapis.com/tensorflow/tf-keras-datasets/mnist.npz\n",
      "11493376/11490434 [==============================] - 0s 0us/step\n",
      "# Imagens: 60000\n",
      "Tamanho: (28, 28)\n",
      "Primeiro número: 5\n"
     ]
    },
    {
     "data": {
      "text/plain": [
       "<matplotlib.image.AxesImage at 0x7facafcb13c8>"
      ]
     },
     "execution_count": 5,
     "metadata": {
      "tags": []
     },
     "output_type": "execute_result"
    },
    {
     "data": {
      "image/png": "[encoded data removed]",
      "text/plain": [
       "<Figure size 432x288 with 1 Axes>"
      ]
     },
     "metadata": {
      "tags": []
     },
     "output_type": "display_data"
    }
   ],
   "source": [
    "from tensorflow.keras.datasets import mnist\n",
    "import matplotlib.pyplot as plt\n",
    "%matplotlib inline\n",
    "\n",
    "(X, y), (Xt, yt) = mnist.load_data()\n",
    "print('# Imagens:', y.shape[0])\n",
    "print('Tamanho:', X[0].shape)\n",
    "print('Primeiro número:', y[0])\n",
    "plt.imshow(X[0], cmap='gray')"
   ]
  },
  {
   "cell_type": "markdown",
   "metadata": {
    "colab_type": "text",
    "id": "bMZUYocM4IAq"
   },
   "source": [
    "Assim como na Atividade 3, dividimos as imagens disponíveis em um conjunto conhecido que usaremos para o treinamento de nossa rede (`X` e `y`) e um conjunto que só usaremos para avaliação (`Xt, yt`). Isto ajuda a não subestimar o erro em imagens desconhecidas. \n",
    "\n",
    "Nesta primeira parte iremos criar um modelo diretamente usando Regressão Logística. Para isto precisamos \"deitar\" a matriz da imagem $28\\times 28$ em um grande vetor de dimensão $784$. \n",
    "\n",
    "**Exercício**: Faça isto abaixo e salve os dados transformados como `Xlr` e `Xtlr`."
   ]
  },
  {
   "cell_type": "code",
   "execution_count": 0,
   "metadata": {
    "colab": {},
    "colab_type": "code",
    "id": "Jafz1S-w4IAr"
   },
   "outputs": [],
   "source": [
    "import numpy as np\n",
    "\n",
    "Xlr = np.reshape(X, (60000, 784))\n",
    "Xtlr = np.reshape(Xt, (10000, 784))"
   ]
  },
  {
   "cell_type": "markdown",
   "metadata": {
    "colab_type": "text",
    "id": "qiSeLbn84IAt"
   },
   "source": [
    "A classe `sklearn.linear_model.LogisticRegression` é capaz de lidar com os rótulos das classes diretamente. Basta enviar o vetor `y` diretamente para a função de treinamento. \n",
    "\n",
    "**Dica**: para usarmos o modelo visto em sala de aula precisamos setar o parâmetro `multi_class` como `'multinomial'`. O treinamento é mais rápido se usarmos o solver `'saga'`\n",
    "\n",
    "**Aviso**: o treinamento do modelo abaixo demora cerca de 5 minutos."
   ]
  },
  {
   "cell_type": "code",
   "execution_count": 0,
   "metadata": {
    "colab": {
     "base_uri": "https://localhost:8080/",
     "height": 50
    },
    "colab_type": "code",
    "id": "1s2pG91s4IAu",
    "outputId": "d3dc44bf-6cd0-49fb-ad33-524ba564533d"
   },
   "outputs": [
    {
     "name": "stderr",
     "output_type": "stream",
     "text": [
      "/usr/local/lib/python3.6/dist-packages/sklearn/linear_model/sag.py:337: ConvergenceWarning: The max_iter was reached which means the coef_ did not converge\n",
      "  \"the coef_ did not converge\", ConvergenceWarning)\n"
     ]
    }
   ],
   "source": [
    "from sklearn.linear_model import LogisticRegression\n",
    "clf = LogisticRegression(random_state=0, solver='saga', multi_class='multinomial').fit(Xlr, y)"
   ]
  },
  {
   "cell_type": "markdown",
   "metadata": {
    "colab_type": "text",
    "id": "hxGpbVbA4IAv"
   },
   "source": [
    "Como visto na expositiva, a *Regressão Logística* estima a probabilidade que um objeto seja de uma determinada classe. No caso dos dígitos temos 10 classes (`0` a `9`), logo nossa saída deverá ter dimensão 10 e cada componente deverá conter a probabilidade da imagem ter o dígito correspondente. \n",
    "\n",
    "O método `predict_proba(X)` calcula a probabilidade de cada classe para um conjunto de imagens passado em `X` (um por linha). \n",
    "\n",
    "**Pergunta**: suponha que seu classificador retornou, para a imagem acima, o seguinte vetor ao chamar `predict_proba`:\n",
    "\n",
    "`[0, 0, 0, 0, 0, 0.6, 0.3, 0, 0, 0.1]`\n",
    "\n",
    "Interprete o resultado obtido."
   ]
  },
  {
   "cell_type": "markdown",
   "metadata": {
    "colab_type": "text",
    "id": "RCJR5X0d4IAw"
   },
   "source": [
    "há 60% de chance da imagem ser um \"5\", 30% de ser um \"6\", 10% de ser um \"9\" e 0% do resto."
   ]
  },
  {
   "cell_type": "markdown",
   "metadata": {
    "colab_type": "text",
    "id": "wBDVxCQN4IAx"
   },
   "source": [
    "**Exercício**: selecione uma imagem qualquer do conjunto de treinamento. Plote-a abaixo (usando os comandos da primeira céclula), classifique-a usando o classificador treinado acima e interprete o resultado obtido. Ele foi bom?"
   ]
  },
  {
   "cell_type": "code",
   "execution_count": 0,
   "metadata": {
    "colab": {
     "base_uri": "https://localhost:8080/",
     "height": 282
    },
    "colab_type": "code",
    "id": "ouPQOyXH4IAx",
    "outputId": "15558d59-88b7-416f-ec4b-d486cf7f6421"
   },
   "outputs": [
    {
     "data": {
      "text/plain": [
       "<matplotlib.image.AxesImage at 0x7faca5d7e390>"
      ]
     },
     "execution_count": 8,
     "metadata": {
      "tags": []
     },
     "output_type": "execute_result"
    },
    {
     "data": {
      "image/png": "[encoded data removed]",
      "text/plain": [
       "<Figure size 432x288 with 1 Axes>"
      ]
     },
     "metadata": {
      "tags": []
     },
     "output_type": "display_data"
    }
   ],
   "source": [
    "plt.imshow(X[20], cmap='gray')"
   ]
  },
  {
   "cell_type": "code",
   "execution_count": 0,
   "metadata": {
    "colab": {
     "base_uri": "https://localhost:8080/",
     "height": 67
    },
    "colab_type": "code",
    "id": "ChI8IRjG8QF0",
    "outputId": "3df0e8bc-b3e7-4e85-8358-37d6b50ca365"
   },
   "outputs": [
    {
     "data": {
      "text/plain": [
       "array([[3.30415185e-09, 1.16307474e-13, 4.74977597e-06, 1.00397272e-05,\n",
       "        9.99947425e-01, 6.16494591e-11, 2.56048755e-06, 6.04324452e-09,\n",
       "        2.91277943e-05, 6.08776829e-06]])"
      ]
     },
     "execution_count": 9,
     "metadata": {
      "tags": []
     },
     "output_type": "execute_result"
    }
   ],
   "source": [
    "clf.predict_proba([Xlr[20]])"
   ]
  },
  {
   "cell_type": "markdown",
   "metadata": {
    "colab_type": "text",
    "id": "wnmUlqhW4IAz"
   },
   "source": [
    "**Exercício**: Assim como feito na atividade 3, avalie os resultados de seu classificador usando a função `score` e comente os resultados."
   ]
  },
  {
   "cell_type": "code",
   "execution_count": 0,
   "metadata": {
    "colab": {
     "base_uri": "https://localhost:8080/",
     "height": 34
    },
    "colab_type": "code",
    "id": "XHPCHmnI4IA0",
    "outputId": "1578e8ec-686a-4eaa-c2cb-48af7409b5ed"
   },
   "outputs": [
    {
     "data": {
      "text/plain": [
       "0.9257"
      ]
     },
     "execution_count": 10,
     "metadata": {
      "tags": []
     },
     "output_type": "execute_result"
    }
   ],
   "source": [
    "clf.score(Xtlr, yt)"
   ]
  },
  {
   "cell_type": "markdown",
   "metadata": {
    "colab_type": "text",
    "id": "G7rfzs5r4IA1"
   },
   "source": [
    "Considerando o quão simples o método é, um acerto de 92.5% para imagens desconhecidas é consideravelmente alto, mas para o problema do cep, com 5 digitos, a acurácia cai para 65%, o que não é satisfatório."
   ]
  },
  {
   "cell_type": "markdown",
   "metadata": {
    "colab_type": "text",
    "id": "u2ce2Bzq4IA2"
   },
   "source": [
    "**Exercício**: Suponha que você precisa ler um número de 5 dígitos. Usando o classificador acima, qual seria a probabilidade de que este número seja lido corretamente? Este resultado é satisfatório?"
   ]
  },
  {
   "cell_type": "markdown",
   "metadata": {
    "colab_type": "text",
    "id": "64_6GyDb4IA3"
   },
   "source": [
    "*Sua resposta aqui*"
   ]
  },
  {
   "cell_type": "markdown",
   "metadata": {
    "colab_type": "text",
    "id": "IrKYOZxB4IA3"
   },
   "source": [
    "# Parte 2 - Redes Neurais Multi-nível"
   ]
  },
  {
   "cell_type": "markdown",
   "metadata": {
    "colab_type": "text",
    "id": "tTYJ413P4IA4"
   },
   "source": [
    "**Aviso**: nos próximos exercícios usaremos a biblioteca [keras]\n",
    "\n",
    "Nesta parte iremos criar uma rede neural \"simples\" com vários níveis. Diferentemente do classificador do *Scikit-learn*, ao trabalhar com redes neurais precisamos trabalhar com as probabilidades de maneira explícita. Para isto precisamos transformar nosso vetor de saída (que contém o número escrito na imagem) em uma matriz de classes binária.\n",
    "\n",
    "**Exercício**: Pesquise o que é uma matriz de classes binária (também conhecida como *one hot encoding*)"
   ]
  },
  {
   "cell_type": "markdown",
   "metadata": {
    "colab_type": "text",
    "id": "ClceQfYw4IA4"
   },
   "source": [
    "um vetor que indica a qual classe o input pertence, crescendo de tamanho conforme o número de inputs diferentes. Ex: 1 para pessoa e -1 para cachorro."
   ]
  },
  {
   "cell_type": "markdown",
   "metadata": {
    "colab_type": "text",
    "id": "_Y0A7beT4IA5"
   },
   "source": [
    "**Exercício**: Use a função `to_categorical` do keras para converter `y` para uma matriz de classes binária `y_oe`. Faça o mesmo com `yt`"
   ]
  },
  {
   "cell_type": "code",
   "execution_count": 0,
   "metadata": {
    "colab": {
     "base_uri": "https://localhost:8080/",
     "height": 34
    },
    "colab_type": "code",
    "id": "Pr5TjKYQ4IA6",
    "outputId": "ec22a91f-0f6a-4220-c657-e713c842bdf4"
   },
   "outputs": [
    {
     "name": "stderr",
     "output_type": "stream",
     "text": [
      "Using TensorFlow backend.\n"
     ]
    }
   ],
   "source": [
    "from keras.utils import to_categorical\n",
    "\n",
    "y_oe = to_categorical(y, 10)\n",
    "yt_oe = to_categorical(yt, 10)"
   ]
  },
  {
   "cell_type": "markdown",
   "metadata": {
    "colab_type": "text",
    "id": "7LBvjyen4IA7"
   },
   "source": [
    "**Exercício**: os dados das imagens estão no intervalo $[0,255]$. Transforme-os para estarem no intervalor $[0, 1]$. Redes neurais tem melhor desempenho no intervalo menor. Salve os dados como `Xnn` e `Xtnn`"
   ]
  },
  {
   "cell_type": "code",
   "execution_count": 0,
   "metadata": {
    "colab": {},
    "colab_type": "code",
    "id": "LhQmycec4IA8"
   },
   "outputs": [],
   "source": [
    "Xnn = Xlr/255\n",
    "Xtnn = Xtlr/255"
   ]
  },
  {
   "cell_type": "markdown",
   "metadata": {
    "colab_type": "text",
    "id": "GDLJ1mTU4IA-"
   },
   "source": [
    "Nossa rede neural irá retornar, como saída, um vetor de dimensão 10 igual as linhas de `y_oe`.\n",
    "\n",
    "----\n",
    "\n",
    "Vamos agora construir a arquitetura de nossa rede neural. Seguiremos as seguintes instruções:\n",
    "\n",
    "1. Nosso modelo será representado pela classe `Sequential`, que é uma lista de camadas tal que a saída de uma camada é passada diretamente para a próxima.\n",
    "1. Cada camada será do tipo `Dense`, ou seja, cada nó da camada está ligado a todos os nós da camada anterior. A função de ativação usada será `'relu'.`\n",
    "1. A saída será uma camada `Dense` também, mas com ativação `'softmax'`. Esta função de ativação computa as mesmas probabilidades da Regressão Logística.\n",
    "\n",
    "\n",
    "**Exercício**: instancie um objeto de `Sequential` e use seu método `add()` para adicionar uma camada densa de tamanho $784$ e uma camada densa de saída. \n",
    "\n",
    "**Dica**: \n",
    "1. veja os exemplos no [Getting Started](https://www.tensorflow.org/guide/keras/overview) do Keras/Tensorflow.\n",
    "2. Ao adicionar a primeira camada é preciso dizer qual é o tamanho da entrada da rede. Isto pode ser feito usando o argumento `input_dim` de `Dense()`\n",
    "2. `Sequential.add()` é capaz de adivinhar o tamanho da entrada das próximas camadas baseado nos parâmetros passados. \n",
    "3. A camada de saída deve ter tamanho igual ao número de classes usadas (10, uma para cada dígito)."
   ]
  },
  {
   "cell_type": "code",
   "execution_count": 0,
   "metadata": {
    "colab": {},
    "colab_type": "code",
    "id": "n6IO4BpF4IA-"
   },
   "outputs": [],
   "source": [
    "from tensorflow.keras import layers\n",
    "import tensorflow as tf\n",
    "\n",
    "model = tf.keras.Sequential()\n",
    "model.add(layers.Dense(784, activation='relu'))\n",
    "model.add(layers.Dense(10, activation='softmax'))"
   ]
  },
  {
   "cell_type": "markdown",
   "metadata": {
    "colab_type": "text",
    "id": "tWhPzhn24IBA"
   },
   "source": [
    "Com nosso modelo pronto precisamos definir quais serão as opções usadas em seu treinamento. Fazemos isto com o método `compile`. A chamada abaixo já foi configurada supondo que sua rede se chama `model`."
   ]
  },
  {
   "cell_type": "code",
   "execution_count": 0,
   "metadata": {
    "colab": {},
    "colab_type": "code",
    "id": "WTcvfwRt4IBB"
   },
   "outputs": [],
   "source": [
    "model.compile(loss='categorical_crossentropy', optimizer='adam', metrics=['accuracy'])"
   ]
  },
  {
   "cell_type": "markdown",
   "metadata": {
    "colab_type": "text",
    "id": "WK5M0hER4IBC"
   },
   "source": [
    "Vamos então treinar nosso modelo. Seguimos o mesmo padrão do *scikit-learn*, ou seja, chamamos o método `fit` com os dados de treinamento `Xlr` e `y_oe`. Iremos treinar com os seguintes argumentos: `batch_size=200, epochs=10`. Se quiser ter um relatório detalhado do progresso, adicione `verbose=2`."
   ]
  },
  {
   "cell_type": "code",
   "execution_count": 0,
   "metadata": {
    "colab": {
     "base_uri": "https://localhost:8080/",
     "height": 457
    },
    "colab_type": "code",
    "id": "MCu3Ubb84IBD",
    "outputId": "8643b0bd-a670-4852-c1a6-0c2d7c1cb0dc"
   },
   "outputs": [
    {
     "name": "stdout",
     "output_type": "stream",
     "text": [
      "WARNING:tensorflow:From /usr/local/lib/python3.6/dist-packages/tensorflow_core/python/ops/resource_variable_ops.py:1630: calling BaseResourceVariable.__init__ (from tensorflow.python.ops.resource_variable_ops) with constraint is deprecated and will be removed in a future version.\n",
      "Instructions for updating:\n",
      "If using Keras pass *_constraint arguments to layers.\n",
      "Train on 60000 samples\n",
      "Epoch 1/10\n",
      "60000/60000 - 2s - loss: 0.2800 - acc: 0.9200\n",
      "Epoch 2/10\n",
      "60000/60000 - 1s - loss: 0.1104 - acc: 0.9681\n",
      "Epoch 3/10\n",
      "60000/60000 - 1s - loss: 0.0720 - acc: 0.9788\n",
      "Epoch 4/10\n",
      "60000/60000 - 1s - loss: 0.0500 - acc: 0.9857\n",
      "Epoch 5/10\n",
      "60000/60000 - 1s - loss: 0.0359 - acc: 0.9898\n",
      "Epoch 6/10\n",
      "60000/60000 - 1s - loss: 0.0260 - acc: 0.9937\n",
      "Epoch 7/10\n",
      "60000/60000 - 1s - loss: 0.0191 - acc: 0.9953\n",
      "Epoch 8/10\n",
      "60000/60000 - 1s - loss: 0.0159 - acc: 0.9961\n",
      "Epoch 9/10\n",
      "60000/60000 - 1s - loss: 0.0119 - acc: 0.9974\n",
      "Epoch 10/10\n",
      "60000/60000 - 1s - loss: 0.0086 - acc: 0.9982\n"
     ]
    },
    {
     "data": {
      "text/plain": [
       "<tensorflow.python.keras.callbacks.History at 0x7faca2ae5048>"
      ]
     },
     "execution_count": 15,
     "metadata": {
      "tags": []
     },
     "output_type": "execute_result"
    }
   ],
   "source": [
    "model.fit(Xnn, y_oe, batch_size = 200, epochs = 10, verbose = 2)"
   ]
  },
  {
   "cell_type": "markdown",
   "metadata": {
    "colab_type": "text",
    "id": "Yna3DOie4IBF"
   },
   "source": [
    "**Exercício**: Use o método [`model.evaluate`](https://keras.io/models/model/#evaluate) para avaliar a rede neural treinada e avalie seus resultados levando em conta a mesma situação da Parte 1 (leitura de número com 5 dígitos)."
   ]
  },
  {
   "cell_type": "code",
   "execution_count": 0,
   "metadata": {
    "colab": {
     "base_uri": "https://localhost:8080/",
     "height": 50
    },
    "colab_type": "code",
    "id": "BPQac6vO4IBF",
    "outputId": "d5652d0a-8fae-4498-a0ac-cf37be9f15b5"
   },
   "outputs": [
    {
     "name": "stdout",
     "output_type": "stream",
     "text": [
      "10000/10000 [==============================] - 1s 84us/sample - loss: 0.0635 - acc: 0.9835\n"
     ]
    },
    {
     "data": {
      "text/plain": [
       "[0.06349852646478685, 0.9835]"
      ]
     },
     "execution_count": 16,
     "metadata": {
      "tags": []
     },
     "output_type": "execute_result"
    }
   ],
   "source": [
    "model.evaluate(Xtnn, yt_oe)"
   ]
  },
  {
   "cell_type": "markdown",
   "metadata": {
    "colab_type": "text",
    "id": "HwrMplNh4IBH"
   },
   "source": [
    "Isso resultou em 98.15% de acurácia, o que gera um acerto de 91% dos casos no problema do CEP."
   ]
  },
  {
   "cell_type": "markdown",
   "metadata": {
    "colab_type": "text",
    "id": "rMoUhgRE4IBI"
   },
   "source": [
    "# Parte 3 - Redes Convolucionais"
   ]
  },
  {
   "cell_type": "markdown",
   "metadata": {
    "colab_type": "text",
    "id": "gn7gvWyc4IBI"
   },
   "source": [
    "Redes convolucionais são redes neurais cujas camadas fazem operações que podem ser interpretadas como processamentos de imagens.\n",
    "\n",
    "* Conv2D - equivale a uma convolução, ou seja, uma combinação linear dos pixels na vizinhança de cada pixel\n",
    "* MaxPooling2d - equivale a redimensionar a imagem para metade de sua altura e largura.\n",
    "* Flatten - transforma a imagem em um vetor unidimensional. \n",
    "\n",
    "Redes Convolucionais são, normalmente, bastante complexas. Por isto nesta parte da atividade iremos trabalhar em cima de uma rede pré-configurada. Nossos exercícios serão treiná-la com um número crescente de épocas e adicionar ou remover camadas. \n",
    "\n",
    "Veja abaixo uma rede contendo uma camada de cada um dos tipos mostrados acima. "
   ]
  },
  {
   "cell_type": "code",
   "execution_count": 0,
   "metadata": {
    "colab": {},
    "colab_type": "code",
    "id": "ldKqo_Xo4IBJ"
   },
   "outputs": [],
   "source": [
    "from tensorflow.keras import layers\n",
    "from tensorflow.keras.models import Sequential\n",
    "\n",
    "\n",
    "model_cnn = Sequential()\n",
    "\n",
    "model_cnn.add(layers.Conv2D(32, (5, 5), input_shape=(28, 28, 1), activation='relu'))\n",
    "model_cnn.add(layers.MaxPooling2D(pool_size=(2, 2)))\n",
    "model_cnn.add(layers.Flatten())\n",
    "model_cnn.add(layers.Dense(128, activation='relu'))\n",
    "model_cnn.add(layers.Dense(10, activation='softmax'))\n",
    "model_cnn.compile(loss='categorical_crossentropy', optimizer='adam', metrics=['accuracy'])"
   ]
  },
  {
   "cell_type": "markdown",
   "metadata": {
    "colab_type": "text",
    "id": "4Lpkd07i4IBL"
   },
   "source": [
    "Assim como a rede anterior, este modelo depende dos dados estarem em um formato específico. As imagens devem estar no formato $(H, W, C)$, onde $C$ é o número de canais (1 para níveis de cinza, 3 para RGB) e $H$ e $W$ são a altura e largura da imagem. O treinamento é feito usando o método `model_cnn.fit`, igual ao exercício anterior.\n",
    "\n",
    "**Exercício**: faça o treinamento da rede acima para 1 época."
   ]
  },
  {
   "cell_type": "code",
   "execution_count": 0,
   "metadata": {
    "colab": {
     "base_uri": "https://localhost:8080/",
     "height": 67
    },
    "colab_type": "code",
    "id": "g2Lj8FAi4IBL",
    "outputId": "caeafc7e-8d28-469b-d323-759c1a86d038"
   },
   "outputs": [
    {
     "name": "stdout",
     "output_type": "stream",
     "text": [
      "Train on 60000 samples, validate on 10000 samples\n",
      "60000/60000 - 5s - loss: 0.2280 - acc: 0.9353 - val_loss: 0.0775 - val_acc: 0.9773\n"
     ]
    },
    {
     "data": {
      "text/plain": [
       "<tensorflow.python.keras.callbacks.History at 0x7faca29e15c0>"
      ]
     },
     "execution_count": 18,
     "metadata": {
      "tags": []
     },
     "output_type": "execute_result"
    }
   ],
   "source": [
    "Xcnn = Xnn.reshape(Xnn.shape[0], 28, 28, 1).astype('float32')\n",
    "Xtcnn = Xtnn.reshape(Xtnn.shape[0], 28, 28, 1).astype('float32')\n",
    "\n",
    "model_cnn.fit(Xcnn, y_oe, validation_data=(Xtcnn, yt_oe), batch_size=200, verbose=2, epochs = 1)"
   ]
  },
  {
   "cell_type": "markdown",
   "metadata": {
    "colab_type": "text",
    "id": "RAvJreIo4IBO"
   },
   "source": [
    "**Exercício**: faça agora o treinamento para 10 épocas. Os resultados melhoraram?"
   ]
  },
  {
   "cell_type": "code",
   "execution_count": 0,
   "metadata": {
    "colab": {
     "base_uri": "https://localhost:8080/",
     "height": 386
    },
    "colab_type": "code",
    "id": "qEht7-vr4IBP",
    "outputId": "ee559a9f-e577-452b-ba2a-c4b7213ceb45"
   },
   "outputs": [
    {
     "name": "stdout",
     "output_type": "stream",
     "text": [
      "Train on 60000 samples, validate on 10000 samples\n",
      "Epoch 1/10\n",
      "60000/60000 - 2s - loss: 0.0646 - acc: 0.9811 - val_loss: 0.0552 - val_acc: 0.9818\n",
      "Epoch 2/10\n",
      "60000/60000 - 2s - loss: 0.0452 - acc: 0.9863 - val_loss: 0.0480 - val_acc: 0.9846\n",
      "Epoch 3/10\n",
      "60000/60000 - 2s - loss: 0.0343 - acc: 0.9893 - val_loss: 0.0372 - val_acc: 0.9875\n",
      "Epoch 4/10\n",
      "60000/60000 - 2s - loss: 0.0276 - acc: 0.9914 - val_loss: 0.0425 - val_acc: 0.9858\n",
      "Epoch 5/10\n",
      "60000/60000 - 2s - loss: 0.0223 - acc: 0.9930 - val_loss: 0.0355 - val_acc: 0.9886\n",
      "Epoch 6/10\n",
      "60000/60000 - 2s - loss: 0.0176 - acc: 0.9947 - val_loss: 0.0366 - val_acc: 0.9896\n",
      "Epoch 7/10\n",
      "60000/60000 - 2s - loss: 0.0137 - acc: 0.9956 - val_loss: 0.0370 - val_acc: 0.9888\n",
      "Epoch 8/10\n",
      "60000/60000 - 2s - loss: 0.0113 - acc: 0.9964 - val_loss: 0.0358 - val_acc: 0.9885\n",
      "Epoch 9/10\n",
      "60000/60000 - 2s - loss: 0.0099 - acc: 0.9970 - val_loss: 0.0472 - val_acc: 0.9866\n",
      "Epoch 10/10\n",
      "60000/60000 - 2s - loss: 0.0074 - acc: 0.9977 - val_loss: 0.0408 - val_acc: 0.9876\n"
     ]
    },
    {
     "data": {
      "text/plain": [
       "<tensorflow.python.keras.callbacks.History at 0x7faca29e1320>"
      ]
     },
     "execution_count": 19,
     "metadata": {
      "tags": []
     },
     "output_type": "execute_result"
    }
   ],
   "source": [
    "model_cnn.fit(Xcnn, y_oe, validation_data=(Xtcnn, yt_oe), batch_size=200, verbose=2, epochs = 10)"
   ]
  },
  {
   "cell_type": "markdown",
   "metadata": {
    "colab_type": "text",
    "id": "Gy0VqZjz4IBT"
   },
   "source": [
    "**Exercício**: Os parâmetros de uma camada `Conv2D` são\n",
    "\n",
    "1. o número de filtors de convolução usados\n",
    "1. a dimensão dos filtros (como uma tupla)\n",
    "1. a função de ativação (sempre usaremos 'relu')\n",
    "\n",
    "Crie um novo modelo com uma camada de convolução a mais após a camada de `MaxPooling`. Seu modelo deverá fazer 20 convoluções na primeira camada e 20 na segunda. Treine uma época do modelo e compare com o modelo de exemplos. Os resultados são melhores? E se 10 épocas forem executadas?"
   ]
  },
  {
   "cell_type": "code",
   "execution_count": 0,
   "metadata": {
    "colab": {},
    "colab_type": "code",
    "id": "G1WVF-fi4IBV"
   },
   "outputs": [],
   "source": [
    "model_cnm = Sequential()\n",
    "\n",
    "model_cnm.add(layers.Conv2D(20, (5, 5), input_shape=(28, 28, 1), activation='relu'))\n",
    "model_cnm.add(layers.MaxPooling2D(pool_size=(2, 2)))\n",
    "model_cnm.add(layers.Conv2D(20, (5, 5), input_shape=(28, 28, 1), activation='relu'))\n",
    "model_cnm.add(layers.Flatten())\n",
    "model_cnm.add(layers.Dense(128, activation='relu'))\n",
    "model_cnm.add(layers.Dense(10, activation='softmax'))\n",
    "model_cnm.compile(loss='categorical_crossentropy', optimizer='adam', metrics=['accuracy'])"
   ]
  },
  {
   "cell_type": "code",
   "execution_count": 0,
   "metadata": {
    "colab": {
     "base_uri": "https://localhost:8080/",
     "height": 67
    },
    "colab_type": "code",
    "id": "j14hmELYFOji",
    "outputId": "c8151f22-b904-40ec-a3ee-bb3e5a684568"
   },
   "outputs": [
    {
     "name": "stdout",
     "output_type": "stream",
     "text": [
      "Train on 60000 samples, validate on 10000 samples\n",
      "60000/60000 - 3s - loss: 0.2587 - acc: 0.9235 - val_loss: 0.0692 - val_acc: 0.9780\n"
     ]
    },
    {
     "data": {
      "text/plain": [
       "<tensorflow.python.keras.callbacks.History at 0x7faca019fc88>"
      ]
     },
     "execution_count": 21,
     "metadata": {
      "tags": []
     },
     "output_type": "execute_result"
    }
   ],
   "source": [
    "model_cnm.fit(Xcnn, y_oe, validation_data=(Xtcnn, yt_oe), batch_size=200, verbose=2, epochs = 1)"
   ]
  },
  {
   "cell_type": "code",
   "execution_count": 0,
   "metadata": {
    "colab": {
     "base_uri": "https://localhost:8080/",
     "height": 386
    },
    "colab_type": "code",
    "id": "8b60OWQkFlSp",
    "outputId": "3a6ac85f-83cd-4dd4-c9a4-3f50e508882d"
   },
   "outputs": [
    {
     "name": "stdout",
     "output_type": "stream",
     "text": [
      "Train on 60000 samples, validate on 10000 samples\n",
      "Epoch 1/10\n",
      "60000/60000 - 2s - loss: 0.0637 - acc: 0.9808 - val_loss: 0.0456 - val_acc: 0.9844\n",
      "Epoch 2/10\n",
      "60000/60000 - 2s - loss: 0.0443 - acc: 0.9869 - val_loss: 0.0375 - val_acc: 0.9878\n",
      "Epoch 3/10\n",
      "60000/60000 - 2s - loss: 0.0340 - acc: 0.9898 - val_loss: 0.0342 - val_acc: 0.9889\n",
      "Epoch 4/10\n",
      "60000/60000 - 2s - loss: 0.0267 - acc: 0.9919 - val_loss: 0.0299 - val_acc: 0.9899\n",
      "Epoch 5/10\n",
      "60000/60000 - 2s - loss: 0.0220 - acc: 0.9933 - val_loss: 0.0287 - val_acc: 0.9899\n",
      "Epoch 6/10\n",
      "60000/60000 - 2s - loss: 0.0179 - acc: 0.9940 - val_loss: 0.0307 - val_acc: 0.9900\n",
      "Epoch 7/10\n",
      "60000/60000 - 2s - loss: 0.0149 - acc: 0.9954 - val_loss: 0.0379 - val_acc: 0.9881\n",
      "Epoch 8/10\n",
      "60000/60000 - 2s - loss: 0.0125 - acc: 0.9960 - val_loss: 0.0280 - val_acc: 0.9912\n",
      "Epoch 9/10\n",
      "60000/60000 - 2s - loss: 0.0107 - acc: 0.9966 - val_loss: 0.0371 - val_acc: 0.9907\n",
      "Epoch 10/10\n",
      "60000/60000 - 2s - loss: 0.0095 - acc: 0.9969 - val_loss: 0.0342 - val_acc: 0.9904\n"
     ]
    },
    {
     "data": {
      "text/plain": [
       "<tensorflow.python.keras.callbacks.History at 0x7faca01adf98>"
      ]
     },
     "execution_count": 22,
     "metadata": {
      "tags": []
     },
     "output_type": "execute_result"
    }
   ],
   "source": [
    "model_cnm.fit(Xcnn, y_oe, validation_data=(Xtcnn, yt_oe), batch_size=200, verbose=2, epochs = 10)"
   ]
  },
  {
   "cell_type": "markdown",
   "metadata": {
    "colab_type": "text",
    "id": "loqXtZWQ4IBY"
   },
   "source": [
    "**Exercício**: Os parâmetros de uma camada `MaxPooling2D` são\n",
    "\n",
    "1. uma tupla contendo a vizinhança usada para fazer o redimensionamento. \n",
    "\n",
    "Crie um novo modelo baseado no acima que adiciona uma camada deste tipo com os mesmos parâmetros da primeira após a segunda convolução e treine uma época dele. Os resultados são melhores? E com 10 épocas? Como o tempo de treinamento é afetado?"
   ]
  },
  {
   "cell_type": "code",
   "execution_count": 0,
   "metadata": {
    "colab": {},
    "colab_type": "code",
    "id": "DvB9NM_P4IBZ"
   },
   "outputs": [],
   "source": [
    "model_cmm = Sequential()\n",
    "\n",
    "model_cmm.add(layers.Conv2D(20, (5, 5), input_shape=(28, 28, 1), activation='relu'))\n",
    "model_cmm.add(layers.MaxPooling2D(pool_size=(2, 2)))\n",
    "model_cmm.add(layers.Conv2D(20, (5, 5), input_shape=(28, 28, 1), activation='relu'))\n",
    "model_cmm.add(layers.MaxPooling2D(pool_size=(2, 2)))\n",
    "model_cmm.add(layers.Flatten())\n",
    "model_cmm.add(layers.Dense(128, activation='relu'))\n",
    "model_cmm.add(layers.Dense(10, activation='softmax'))\n",
    "model_cmm.compile(loss='categorical_crossentropy', optimizer='adam', metrics=['accuracy'])"
   ]
  },
  {
   "cell_type": "code",
   "execution_count": 0,
   "metadata": {
    "colab": {
     "base_uri": "https://localhost:8080/",
     "height": 67
    },
    "colab_type": "code",
    "id": "LRFX5SSoF0Kr",
    "outputId": "e6687318-e4ba-4b1a-b941-0141b2f698f5"
   },
   "outputs": [
    {
     "name": "stdout",
     "output_type": "stream",
     "text": [
      "Train on 60000 samples, validate on 10000 samples\n",
      "60000/60000 - 2s - loss: 0.3228 - acc: 0.9088 - val_loss: 0.0989 - val_acc: 0.9720\n"
     ]
    },
    {
     "data": {
      "text/plain": [
       "<tensorflow.python.keras.callbacks.History at 0x7faca00a4b00>"
      ]
     },
     "execution_count": 24,
     "metadata": {
      "tags": []
     },
     "output_type": "execute_result"
    }
   ],
   "source": [
    "model_cmm.fit(Xcnn, y_oe, validation_data=(Xtcnn, yt_oe), batch_size=200, verbose=2, epochs = 1)"
   ]
  },
  {
   "cell_type": "code",
   "execution_count": 0,
   "metadata": {
    "colab": {
     "base_uri": "https://localhost:8080/",
     "height": 386
    },
    "colab_type": "code",
    "id": "5eHklaKaF0TP",
    "outputId": "81114811-cd31-4a25-fece-ea104c67c517"
   },
   "outputs": [
    {
     "name": "stdout",
     "output_type": "stream",
     "text": [
      "Train on 60000 samples, validate on 10000 samples\n",
      "Epoch 1/10\n",
      "60000/60000 - 2s - loss: 0.0811 - acc: 0.9753 - val_loss: 0.0603 - val_acc: 0.9806\n",
      "Epoch 2/10\n",
      "60000/60000 - 2s - loss: 0.0562 - acc: 0.9833 - val_loss: 0.0465 - val_acc: 0.9846\n",
      "Epoch 3/10\n",
      "60000/60000 - 2s - loss: 0.0445 - acc: 0.9865 - val_loss: 0.0425 - val_acc: 0.9871\n",
      "Epoch 4/10\n",
      "60000/60000 - 2s - loss: 0.0366 - acc: 0.9888 - val_loss: 0.0383 - val_acc: 0.9880\n",
      "Epoch 5/10\n",
      "60000/60000 - 2s - loss: 0.0305 - acc: 0.9902 - val_loss: 0.0382 - val_acc: 0.9876\n",
      "Epoch 6/10\n",
      "60000/60000 - 2s - loss: 0.0255 - acc: 0.9924 - val_loss: 0.0324 - val_acc: 0.9893\n",
      "Epoch 7/10\n",
      "60000/60000 - 2s - loss: 0.0234 - acc: 0.9924 - val_loss: 0.0363 - val_acc: 0.9883\n",
      "Epoch 8/10\n",
      "60000/60000 - 2s - loss: 0.0205 - acc: 0.9933 - val_loss: 0.0303 - val_acc: 0.9905\n",
      "Epoch 9/10\n",
      "60000/60000 - 2s - loss: 0.0164 - acc: 0.9946 - val_loss: 0.0313 - val_acc: 0.9904\n",
      "Epoch 10/10\n",
      "60000/60000 - 2s - loss: 0.0154 - acc: 0.9951 - val_loss: 0.0309 - val_acc: 0.9906\n"
     ]
    },
    {
     "data": {
      "text/plain": [
       "<tensorflow.python.keras.callbacks.History at 0x7faca0043128>"
      ]
     },
     "execution_count": 25,
     "metadata": {
      "tags": []
     },
     "output_type": "execute_result"
    }
   ],
   "source": [
    "model_cmm.fit(Xcnn, y_oe, validation_data=(Xtcnn, yt_oe), batch_size=200, verbose=2, epochs = 10)"
   ]
  },
  {
   "cell_type": "markdown",
   "metadata": {
    "colab_type": "text",
    "id": "6hWRPxot4IBa"
   },
   "source": [
    "Testar diversas arquiteturas é uma tarefa muito comum em Visão Computacional. \n",
    "\n",
    "**Exercício**: Compare os resultados de sua melhor rede com os resultados das duas partes anteriores. Qual foi o ganho de acurácia no problema da leitura do número com 5 dígitos?"
   ]
  },
  {
   "cell_type": "markdown",
   "metadata": {
    "colab_type": "text",
    "id": "hO3mAsER4IBb"
   },
   "source": [
    "*Sua resposta aqui*"
   ]
  },
  {
   "cell_type": "markdown",
   "metadata": {
    "colab_type": "text",
    "id": "DZCJ4QtM4IBb"
   },
   "source": [
    "# Parte final\n",
    "\n",
    "**Exercício**: tire uma foto de 5 números escritos à mão por você. Separe cada um dos números, redimensione-os para uma imagem $28\\times 28$, passe cada um pelo seu melhor modelo desta aula e retorne a leitura do número por inteiro.\n",
    "\n",
    "**Dica**: sua foto pode conter somente a folha em branco e os dígitos em preto. Você pode supor que nenhuma parte de um dígito encosta no outro e que a imagem é binarizável usando uma operação simples de limiar (*threshold*)."
   ]
  },
  {
   "cell_type": "code",
   "execution_count": 0,
   "metadata": {
    "colab": {},
    "colab_type": "code",
    "id": "DU21qKdb4IBc"
   },
   "outputs": [],
   "source": []
  }
 ],
 "metadata": {
  "accelerator": "GPU",
  "colab": {
   "name": "20-Redes-Neurais.ipynb",
   "provenance": []
  },
  "kernelspec": {
   "display_name": "Python 3",
   "language": "python",
   "name": "python3"
  },
  "language_info": {
   "codemirror_mode": {
    "name": "ipython",
    "version": 3
   },
   "file_extension": ".py",
   "mimetype": "text/x-python",
   "name": "python",
   "nbconvert_exporter": "python",
   "pygments_lexer": "ipython3",
   "version": "3.7.4"
  }
 },
 "nbformat": 4,
 "nbformat_minor": 1
}
