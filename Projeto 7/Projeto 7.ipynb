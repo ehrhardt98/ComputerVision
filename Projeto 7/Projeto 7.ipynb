{
 "cells": [
  {
   "cell_type": "code",
   "execution_count": 117,
   "metadata": {},
   "outputs": [],
   "source": [
    "import cv2\n",
    "import matplotlib.pyplot as plt\n",
    "import numpy as np\n",
    "%matplotlib inline"
   ]
  },
  {
   "cell_type": "code",
   "execution_count": 118,
   "metadata": {},
   "outputs": [],
   "source": [
    "dictAruco = cv2.aruco.getPredefinedDictionary(cv2.aruco.DICT_6X6_50)\n",
    "\n",
    "board = cv2.aruco.CharucoBoard_create(5, 7, 3.85, 2, dictAruco)"
   ]
  },
  {
   "cell_type": "code",
   "execution_count": 119,
   "metadata": {},
   "outputs": [],
   "source": [
    "img1 = cv2.imread(\"charuco.png\", cv2.IMREAD_GRAYSCALE)\n",
    "w1, h1 = img1.shape\n",
    "mcorners1, mids1, rejectedImgPoints1 = cv2.aruco.detectMarkers(img1, dictAruco)\n",
    "\n",
    "markers1 = cv2.aruco.drawDetectedMarkers(img1, mcorners1, mids1)\n",
    "\n",
    "retval1, corners1, charucoIds1 = cv2.aruco.interpolateCornersCharuco(mcorners1, mids1, img1, board)\n",
    "corn1 = img1.copy()\n",
    "corn1 = cv2.aruco.drawDetectedCornersCharuco(img1, corners1, charucoIds1)"
   ]
  },
  {
   "cell_type": "code",
   "execution_count": 120,
   "metadata": {
    "scrolled": true
   },
   "outputs": [
    {
     "data": {
      "text/plain": [
       "(24, 2)"
      ]
     },
     "execution_count": 120,
     "metadata": {},
     "output_type": "execute_result"
    }
   ],
   "source": [
    "# plt.figure(figsize=(16,16))\n",
    "# plt.imshow(corn)\n",
    "corners1 = corners1.reshape((24,2)).astype(int)\n",
    "corners1.shape"
   ]
  },
  {
   "cell_type": "code",
   "execution_count": 122,
   "metadata": {
    "scrolled": true
   },
   "outputs": [],
   "source": [
    "path1 = \"C:/Users/jorge/Pictures/mems/yee.jpg\"\n",
    "img2 = cv2.imread(path1)\n",
    "img2 = cv2.resize(img2, (h1, w1))\n",
    "\n",
    "\n",
    "camera_index = 0\n",
    "cap = cv2.VideoCapture(camera_index, cv2.CAP_DSHOW)\n",
    "ret, frame = cap.read()\n",
    "\n",
    "_, frame = cap.read()\n",
    "while frame is not None:\n",
    "    \n",
    "#     warp = frame.copy()\n",
    "    \n",
    "    try:\n",
    "        h, w, _ = frame.shape\n",
    "\n",
    "        img = cv2.cvtColor(frame, cv2.COLOR_BGR2GRAY)\n",
    "        mcorners, mids, rejectedImgPoints = cv2.aruco.detectMarkers(img, dictAruco)\n",
    "\n",
    "        markers = cv2.aruco.drawDetectedMarkers(frame, mcorners)\n",
    "\n",
    "        if len(mcorners) > 0:\n",
    "            retval2, corners2, charucoIds2 = cv2.aruco.interpolateCornersCharuco(mcorners, mids, img, board)\n",
    "            corn = img.copy()\n",
    "    #         corn = cv2.aruco.drawDetectedCornersCharuco(frame, corners2, charucoIds2)\n",
    "\n",
    "\n",
    "            if charucoIds2 is not None:\n",
    "                if len(charucoIds2) > 3:\n",
    "                    new_corners = []\n",
    "                    for i in range(len(corners1)):\n",
    "                        if i in charucoIds2:\n",
    "                            new_corners.append(corners1[i])\n",
    "                    new_corners = np.array(new_corners)\n",
    "\n",
    "                    homog = cv2.findHomography(new_corners, corners2)[0] #, cv2.RANSAC)\n",
    "\n",
    "                    warp = cv2.warpPerspective(img2, homog, (w, h), np.zeros_like(frame))\n",
    "\n",
    "                    nova = (~(warp > 0)*255).astype('uint8')\n",
    "\n",
    "                    frame = (nova & frame) | warp\n",
    "    except:\n",
    "        continue    \n",
    "    \n",
    "    cv2.imshow('frame', frame)\n",
    "    k = cv2.waitKey(30) & 0xff\n",
    "    if k == 27:\n",
    "        break\n",
    "    elif k == ord(' '):\n",
    "        break\n",
    "\n",
    "    _, frame = cap.read()\n",
    "\n",
    "cap.release()\n",
    "cv2.destroyAllWindows()"
   ]
  },
  {
   "cell_type": "code",
   "execution_count": null,
   "metadata": {},
   "outputs": [],
   "source": []
  },
  {
   "cell_type": "code",
   "execution_count": null,
   "metadata": {},
   "outputs": [],
   "source": []
  }
 ],
 "metadata": {
  "kernelspec": {
   "display_name": "Python 3",
   "language": "python",
   "name": "python3"
  },
  "language_info": {
   "codemirror_mode": {
    "name": "ipython",
    "version": 3
   },
   "file_extension": ".py",
   "mimetype": "text/x-python",
   "name": "python",
   "nbconvert_exporter": "python",
   "pygments_lexer": "ipython3",
   "version": "3.7.3"
  }
 },
 "nbformat": 4,
 "nbformat_minor": 2
}
