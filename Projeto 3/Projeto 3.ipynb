{
 "cells": [
  {
   "cell_type": "code",
   "execution_count": 1,
   "metadata": {},
   "outputs": [],
   "source": [
    "%matplotlib inline\n",
    "import numpy as np\n",
    "import cv2\n",
    "import matplotlib.pyplot as plt"
   ]
  },
  {
   "cell_type": "markdown",
   "metadata": {},
   "source": [
    "### Teorização:\n",
    "&nbsp;&nbsp;&nbsp;&nbsp;&nbsp;&nbsp;Para amenizar oscilações na camera, é necessário capturar o fluxo óptico entre dois frames, porém, isso não basta, uma vez que ele só retorna o quanto cada um dos pontos escolhidos variou em relação à sua posição anterior. Para estabilizar a camera de fato, é necessário que o movimento dos pontos seja compensado com uma translação na direção oposta. Agora, há a questão dos pontos escolhidos pelo goodFeaturesToTtrack, pois se a seleção for feita com a tela inteira, a estabilização tentaria centralizar a imagem inteira, minimizando os efeitos, sendo que a imagem em sí sempre estaria no centro. Por isso, o código da aula 13 não é eficaz na estabilização.\\\n",
    "&nbsp;&nbsp;&nbsp;&nbsp;&nbsp;&nbsp;Uma maneira de contornar esse problema é limitar a janela de pontos do goodFeaturesToTrack para o centro da camera e diminuir o tamanho da imagem mostrada, assim, a imagem mostrada pode transladar pela imagem total capturada pela camera e sempre será compensada para o centro.\\"
   ]
  },
  {
   "cell_type": "markdown",
   "metadata": {},
   "source": [
    "Com os detalhes iniciais acertados, é iniciado o processo de determinação do fluxo ótico"
   ]
  },
  {
   "cell_type": "code",
   "execution_count": null,
   "metadata": {},
   "outputs": [],
   "source": [
    "cap = cv2.VideoCapture(0)\n",
    "\n",
    "\n",
    "# Parametros para a detecção de cantos de Shi-Tomasi\n",
    "feature_params = {\n",
    "    'maxCorners': 100,\n",
    "    'qualityLevel': 0.3,\n",
    "    'minDistance': 7,\n",
    "    'blockSize': 7,\n",
    "    'qualityLevel': 0.01\n",
    "}\n",
    "\n",
    "# Parametros para o fluxo ótico de Lucas-Kanade\n",
    "lk_params = {\n",
    "    'winSize': (15, 15),\n",
    "    'maxLevel': 2,\n",
    "    'criteria': (cv2.TERM_CRITERIA_EPS | cv2.TERM_CRITERIA_COUNT, 10, 0.03)\n",
    "}\n",
    "\n",
    "# Cores aleatórias para os pontos\n",
    "color = np.random.randint(0, 255, (100, 3))\n",
    "\n",
    "\n",
    "_, old_frame = cap.read()\n",
    "old_gray = cv2.cvtColor(old_frame, cv2.COLOR_BGR2GRAY)\n",
    "rows, cols = old_gray.shape\n",
    "p0 = cv2.goodFeaturesToTrack(old_gray, mask=None, **feature_params) # Cálculo das primeiras goodFeaturesToTrack\n",
    "\n",
    "size = 70 # tamanho do quadrado onde os pontos serão pegos (2xsize por 2xsize), valores altos se comportam de maneira inesperada\n",
    "\n",
    "# limitação dos pontos para a janela central, removendo qualquer um que estiver fora, no primeiro frame\n",
    "p0 = p0[\n",
    "    (p0[:,:,0] >= cols/2-size) &\n",
    "    (p0[:,:,0] <= cols/2+size) &\n",
    "    (p0[:,:,1] >= rows/2-size) &\n",
    "    (p0[:,:,1] <= rows/2+size)\n",
    "].reshape(-1, 1, 2) # -> remontar o shape para o goodFeatures\n",
    "\n",
    "# Máscara para o desenho\n",
    "mask = np.zeros_like(old_frame)"
   ]
  },
  {
   "cell_type": "markdown",
   "metadata": {},
   "source": [
    "### Implementação\n",
    "\\\n",
    "Equacao do fluxo otico:  \n",
    "$$\n",
    "I(x, y, t) = I(x + \\Delta x, y + \\Delta y, t + \\Delta t)\n",
    "$$\n",
    "\\\n",
    "Após a decomposição em série de Taylor, a equação fica:\n",
    "$$\n",
    "I_x v_x + I_y v_y + I_t = 0\n",
    "$$\n",
    "Nessa solução do problema de estabilização de camera, foi empregado o método de Lucas-Kanade para calcular o fluxo ótico. Esse é um método diferencial para estimá-lo, a partir da suposição de que o fluxo (translação) é relativamente constante ao redor de um certo pixel. Asism, ele aplica as equações do fluxo para cada ponto e se utilizad od método dos mínimos quadrados para resolver o sistema de equações."
   ]
  },
  {
   "cell_type": "markdown",
   "metadata": {},
   "source": [
    "Outro problema que foi abordado foi o dasbordas pretas que surgem caso a imagem seja transladada demais em algum dos eixos. Para contornar isso, além de só dar display de uma janela menor que a imagem completa, também foi implementado uma maneira de impedir que a janela mostrada ultrapasse as bordas da imagem completa. Para tal, bastou calcular a distancia máxima entre o fim da janela e a borda da imagem e utilizar esse valor como limitante da translação."
   ]
  },
  {
   "cell_type": "code",
   "execution_count": 4,
   "metadata": {},
   "outputs": [],
   "source": [
    "dx = 0 # coeficiente da translação na coordenada X\n",
    "dy = 0 # coeficiente da translação na coordenada Y\n",
    "\n",
    "# Para impedir a aparição de bordas pretas na imagem tratada, são definidas as variações máximas em X e Y, \n",
    "max_x = cols//2-size*2\n",
    "max_y = rows//2-size*2-60 # 60 pixels em y, em cima e em baixo da imagem, por conta da camera\n",
    "\n",
    "while True:\n",
    "    _, frame = cap.read()\n",
    "    if frame is None:\n",
    "        break\n",
    "        \n",
    "    frame_gray = cv2.cvtColor(frame, cv2.COLOR_BGR2GRAY)\n",
    "\n",
    "    # Cálculo do fluxo ótico\n",
    "    p1, st, err = cv2.calcOpticalFlowPyrLK(\n",
    "        old_gray, frame_gray, p0, None, **lk_params)\n",
    "\n",
    "    \n",
    "    # Cláusula catch para impedir que o kernel quebre se todos os pontos forem perdidos\n",
    "    try:\n",
    "        # Seleção dos pontos bons\n",
    "        good_new = p1[st == 1]\n",
    "        good_old = p0[st == 1]\n",
    "\n",
    "        # Calcula a média da variação de todos os pontos do goodFeatures\n",
    "        dx += (p0[:,:,0]-p1[:,:,0]).mean()\n",
    "        dy += (p0[:,:,1]-p1[:,:,1]).mean()\n",
    "        \n",
    "    except:\n",
    "        print(\"Todos os pontos foram perdidos, rodar denovo\")\n",
    "    \n",
    "    # limitação dos deslocamentos máximos que impedem a aparição de bordas pretas\n",
    "    if dx > max_x:\n",
    "        dx = max_x\n",
    "    if dy > max_y:\n",
    "        dy = max_y\n",
    "    if dx < -max_x:\n",
    "        dx = -max_x\n",
    "    if dy < -max_y:\n",
    "        dy = -max_y\n",
    "    \n",
    "    M = np.array([\n",
    "        [1.0, 0.0, dx],\n",
    "        [0.0, 1.0, dy],\n",
    "    ]) # matriz para o warpAffine\n",
    "    \n",
    "    frame_tranls = cv2.warpAffine(frame, M, None) # Translada a imagem, de acordo com os coeficientes dx e dy\n",
    "\n",
    "    # Desenhos para melhor visualização dos pontos seguidos\n",
    "    for i, (new, old) in enumerate(zip(good_new, good_old)):\n",
    "        a, b = new.ravel()\n",
    "        c, d = old.ravel()\n",
    "        #cv2.line(mask, (int(a+dx), int(b+dy)), (int(c+dx), int(d+dy)), color[i].tolist(), 2)\n",
    "        cv2.circle(frame_tranls, (int(a+dx), int(b+dy)), 5, color[i].tolist(), -1)\n",
    "        cv2.rectangle(frame_tranls, (cols//2 - size, rows//2 - size), (cols//2 + size, rows//2 + size), (0, 255, 0)) # // -> indices tem que ser inteiros\n",
    "        #cv2.rectangle(frame_tranls, (cols//2 - size*2, rows//2 - size*2), (cols//2 + size*2, rows//2 + size*2), (255, 0, 0))\n",
    "    img = cv2.add(frame_tranls, mask)\n",
    "\n",
    "    # Display de parte cortada da imagem\n",
    "    cv2.imshow('frame', img[rows//2-size*2:rows//2+size*2, cols//2-size*2:cols//2+size*2])\n",
    "\n",
    "    k = cv2.waitKey(30) & 0xff\n",
    "    if k == 27:\n",
    "        break\n",
    "\n",
    "    # Atualização dos frames anteriores\n",
    "    old_gray = frame_gray.copy()\n",
    "    p0 = good_new.reshape(-1, 1, 2)\n",
    "\n",
    "cap.release()\n",
    "cv2.destroyAllWindows()"
   ]
  },
  {
   "cell_type": "code",
   "execution_count": null,
   "metadata": {},
   "outputs": [],
   "source": []
  }
 ],
 "metadata": {
  "kernelspec": {
   "display_name": "Python 3",
   "language": "python",
   "name": "python3"
  },
  "language_info": {
   "codemirror_mode": {
    "name": "ipython",
    "version": 3
   },
   "file_extension": ".py",
   "mimetype": "text/x-python",
   "name": "python",
   "nbconvert_exporter": "python",
   "pygments_lexer": "ipython3",
   "version": "3.7.4"
  }
 },
 "nbformat": 4,
 "nbformat_minor": 2
}
